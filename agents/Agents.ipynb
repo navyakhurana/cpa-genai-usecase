{
 "cells": [
  {
   "cell_type": "markdown",
   "metadata": {},
   "source": [
    "# Agents"
   ]
  },
  {
   "cell_type": "markdown",
   "metadata": {},
   "source": [
    "## Initialization and Imports"
   ]
  },
  {
   "cell_type": "markdown",
   "metadata": {},
   "source": [
    "### Imports"
   ]
  },
  {
   "cell_type": "code",
   "execution_count": 1,
   "metadata": {},
   "outputs": [],
   "source": [
    "from langchain_experimental.agents import create_csv_agent\n",
    "\n",
    "from langchain.agents.agent_types import AgentType\n",
    "from gen_ai_hub.proxy.langchain.init_models import init_llm"
   ]
  },
  {
   "cell_type": "markdown",
   "metadata": {},
   "source": [
    "Load the environment (Using your GenAI Hub Credentials)"
   ]
  },
  {
   "cell_type": "code",
   "execution_count": 2,
   "metadata": {},
   "outputs": [
    {
     "data": {
      "text/plain": [
       "True"
      ]
     },
     "execution_count": 2,
     "metadata": {},
     "output_type": "execute_result"
    }
   ],
   "source": [
    "from dotenv import load_dotenv\n",
    "load_dotenv()"
   ]
  },
  {
   "cell_type": "markdown",
   "metadata": {},
   "source": [
    "To view deployments of your model on GenAI Hub"
   ]
  },
  {
   "cell_type": "code",
   "execution_count": 3,
   "metadata": {},
   "outputs": [
    {
     "data": {
      "text/plain": [
       "[Deployment(url='https://api.ai.prod.eu-central-1.aws.ml.hana.ondemand.com/v2/inference/deployments/d981f7805d47533c', config_id='3acc5a29-7058-4c32-94c5-1a04b49c43f0', config_name='gcp-vertex-ai-flash', deployment_id='d981f7805d47533c', model_name='gemini-1.5-flash', created_at=datetime.datetime(2024, 9, 19, 4, 50, 49, tzinfo=datetime.timezone.utc), additonal_parameters={'executable_id': 'gcp-vertexai', 'model_version': 'latest'}, custom_prediction_suffix=None),\n",
       " Deployment(url='https://api.ai.prod.eu-central-1.aws.ml.hana.ondemand.com/v2/inference/deployments/daaabf34a1e6a56c', config_id='0a10abb2-9aa4-4af9-989b-e81bf0bcce87', config_name='gcp-vertex-ai', deployment_id='daaabf34a1e6a56c', model_name='gemini-1.5-pro', created_at=datetime.datetime(2024, 9, 18, 11, 59, 24, tzinfo=datetime.timezone.utc), additonal_parameters={'executable_id': 'gcp-vertexai', 'model_version': 'latest'}, custom_prediction_suffix=None),\n",
       " Deployment(url='https://api.ai.prod.eu-central-1.aws.ml.hana.ondemand.com/v2/inference/deployments/df226063db9d6686', config_id='d9963722-041c-4e59-87e3-4c9dc23f566f', config_name='anthropic-35-claude-sonnet', deployment_id='df226063db9d6686', model_name='anthropic--claude-3.5-sonnet', created_at=datetime.datetime(2024, 9, 17, 12, 11, 21, tzinfo=datetime.timezone.utc), additonal_parameters={'executable_id': 'aws-bedrock', 'model_version': 'latest'}, custom_prediction_suffix=None),\n",
       " Deployment(url='https://api.ai.prod.eu-central-1.aws.ml.hana.ondemand.com/v2/inference/deployments/da2f6587d7312192', config_id='815f718b-aa6b-4341-a627-4c00226e849a', config_name='anthropic--claude-3-sonnet', deployment_id='da2f6587d7312192', model_name='anthropic--claude-3-sonnet', created_at=datetime.datetime(2024, 8, 7, 11, 41, 45, tzinfo=datetime.timezone.utc), additonal_parameters={'executable_id': 'aws-bedrock', 'model_version': 'latest'}, custom_prediction_suffix=None),\n",
       " Deployment(url='https://api.ai.prod.eu-central-1.aws.ml.hana.ondemand.com/v2/inference/deployments/d84d6ab9eed266bb', config_id='efc68758-d247-4c7f-9baf-3b3bbabea7ad', config_name='text-embedding-ada-002-config', deployment_id='d84d6ab9eed266bb', model_name='text-embedding-ada-002', created_at=datetime.datetime(2024, 7, 31, 6, 5, 46, tzinfo=datetime.timezone.utc), additonal_parameters={'executable_id': 'azure-openai', 'model_version': 'latest'}, custom_prediction_suffix=None),\n",
       " Deployment(url='https://api.ai.prod.eu-central-1.aws.ml.hana.ondemand.com/v2/inference/deployments/dfe3555a9a49d0d4', config_id='812e6406-1ed5-4dbf-b797-64ac2f973bf8', config_name='gpt-35-turbo-16k-config', deployment_id='dfe3555a9a49d0d4', model_name='gpt-35-turbo-16k', created_at=datetime.datetime(2024, 7, 31, 5, 16, 3, tzinfo=datetime.timezone.utc), additonal_parameters={'executable_id': 'azure-openai', 'model_version': 'latest'}, custom_prediction_suffix=None),\n",
       " Deployment(url='https://api.ai.prod.eu-central-1.aws.ml.hana.ondemand.com/v2/inference/deployments/d1f80023b5d33c0d', config_id='2f6c7044-fdee-4bc8-b6ac-2da92b357acc', config_name='gpt-4o-config-new', deployment_id='d1f80023b5d33c0d', model_name='gpt-4o', created_at=datetime.datetime(2024, 7, 8, 5, 15, 2, tzinfo=datetime.timezone.utc), additonal_parameters={'executable_id': 'azure-openai', 'model_version': '2024-05-13'}, custom_prediction_suffix=None),\n",
       " Deployment(url='https://api.ai.prod.eu-central-1.aws.ml.hana.ondemand.com/v2/inference/deployments/d0e8f9998f996c8a', config_id='9f6d1161-6ff2-4e72-92b8-acb055b36ce9', config_name='gpt-4-32k-config', deployment_id='d0e8f9998f996c8a', model_name='gpt-4-32k', created_at=datetime.datetime(2024, 6, 3, 5, 48, 41, tzinfo=datetime.timezone.utc), additonal_parameters={'executable_id': 'azure-openai', 'model_version': 'latest'}, custom_prediction_suffix=None),\n",
       " Deployment(url='https://api.ai.prod.eu-central-1.aws.ml.hana.ondemand.com/v2/inference/deployments/d2959af40a8b5659', config_id='9f6d1161-6ff2-4e72-92b8-acb055b36ce9', config_name='gpt-4-32k-config', deployment_id='d2959af40a8b5659', model_name='gpt-4-32k', created_at=datetime.datetime(2024, 4, 3, 9, 43, 26, tzinfo=datetime.timezone.utc), additonal_parameters={'executable_id': 'azure-openai', 'model_version': 'latest'}, custom_prediction_suffix=None),\n",
       " Deployment(url='https://api.ai.prod.eu-central-1.aws.ml.hana.ondemand.com/v2/inference/deployments/da7e6a6d1e4c42a3', config_id='eecd3103-cee5-48e0-af17-6a96bd596c96', config_name='gpt-35-config', deployment_id='da7e6a6d1e4c42a3', model_name='gpt-35-turbo', created_at=datetime.datetime(2024, 2, 21, 8, 4, 8, tzinfo=datetime.timezone.utc), additonal_parameters={'executable_id': 'azure-openai', 'model_version': '0613'}, custom_prediction_suffix=None),\n",
       " Deployment(url='https://api.ai.prod.eu-central-1.aws.ml.hana.ondemand.com/v2/inference/deployments/dc5d835423cd6b24', config_id='efc68758-d247-4c7f-9baf-3b3bbabea7ad', config_name='text-embedding-ada-002-config', deployment_id='dc5d835423cd6b24', model_name='text-embedding-ada-002', created_at=datetime.datetime(2024, 2, 12, 8, 40, 49, tzinfo=datetime.timezone.utc), additonal_parameters={'executable_id': 'azure-openai', 'model_version': 'latest'}, custom_prediction_suffix=None),\n",
       " Deployment(url='https://api.ai.prod.eu-central-1.aws.ml.hana.ondemand.com/v2/inference/deployments/dded1346f6742475', config_id='c44b7075-d424-4f33-ad4d-10ef1c15a35b', config_name='gpt-4-config', deployment_id='dded1346f6742475', model_name='gpt-4', created_at=datetime.datetime(2024, 2, 12, 8, 26, 11, tzinfo=datetime.timezone.utc), additonal_parameters={'executable_id': 'azure-openai', 'model_version': 'latest'}, custom_prediction_suffix=None)]"
      ]
     },
     "execution_count": 3,
     "metadata": {},
     "output_type": "execute_result"
    }
   ],
   "source": [
    "from gen_ai_hub.proxy.core.proxy_clients import get_proxy_client\n",
    "proxy_client = get_proxy_client('gen-ai-hub')\n",
    "proxy_client.deployments"
   ]
  },
  {
   "cell_type": "markdown",
   "metadata": {},
   "source": [
    "Initializations for the CSV Files"
   ]
  },
  {
   "cell_type": "code",
   "execution_count": 4,
   "metadata": {},
   "outputs": [],
   "source": [
    "csv_file_path = \"./Supply_Optimizer_Log.csv\""
   ]
  },
  {
   "cell_type": "markdown",
   "metadata": {},
   "source": [
    "## Agent Implementation"
   ]
  },
  {
   "cell_type": "markdown",
   "metadata": {},
   "source": [
    "Different Agent Types:\n",
    "\n",
    "ZERO_SHOT_REACT_DESCRIPTION = A zero shot agent that does a reasoning step before acting\n",
    "\n",
    "REACT_DOCSTORE =This agent has access to a document store that allows it to look up relevant information to answering the question.\n",
    "\n",
    "SELF_ASK_WITH_SEARCH =An agent that breaks down a complex question into a series of simpler questions. This agent uses a search tool to look up answers to the simpler questions\n",
    "in order to answer the original complex question.\n",
    "\n",
    "CONVERSATIONAL_REACT_DESCRIPTION = \"conversational-react-description\"\n",
    "CHAT_ZERO_SHOT_REACT_DESCRIPTION = \"chat-zero-shot-react-description\"\n",
    "A zero shot agent that does a reasoning step before acting.\n",
    "This agent is designed to be used in conjunction\n",
    "\n",
    "\n",
    "CHAT_CONVERSATIONAL_REACT_DESCRIPTION = \"chat-conversational-react-description\"\n",
    "\n",
    "STRUCTURED_CHAT_ZERO_SHOT_REACT_DESCRIPTION = (\n",
    "    \"structured-chat-zero-shot-react-description\"\n",
    ")\n",
    "An zero-shot react agent optimized for chat models.\n",
    "This agent is capable of invoking tools that have multiple inputs.\n",
    "\n",
    "\n",
    "OPENAI_FUNCTIONS = An agent optimized for using open AI functions.\n",
    "\n",
    "OPENAI_MULTI_FUNCTIONS = \"openai-multi-functions\""
   ]
  },
  {
   "cell_type": "code",
   "execution_count": 5,
   "metadata": {},
   "outputs": [],
   "source": [
    "llm = init_llm('gpt-4', temperature=0.0)\n",
    "agent = create_csv_agent(llm, csv_file_path, verbose=True, agent_type = AgentType.ZERO_SHOT_REACT_DESCRIPTION, return_intermediate_steps=True, allow_dangerous_code=True)"
   ]
  },
  {
   "cell_type": "code",
   "execution_count": 6,
   "metadata": {},
   "outputs": [
    {
     "name": "stdout",
     "output_type": "stream",
     "text": [
      "\n",
      "\n",
      "\u001b[1m> Entering new AgentExecutor chain...\u001b[0m\n"
     ]
    },
    {
     "name": "stdout",
     "output_type": "stream",
     "text": [
      "\u001b[32;1m\u001b[1;3mThought: To determine the number of shipments that were not fully fulfilled, I need to compare the \"Requested amount\" and \"Fulfilled amount\" from the 'Mar-26' column. If the \"Fulfilled amount\" is less than the \"Requested amount\", then the shipment was not fully fulfilled.\n",
      "\n",
      "Action: python_repl_ast\n",
      "Action Input: print(df['Mar-26'])\u001b[0m\u001b[36;1m\u001b[1;3m0       Independent demand can't be fully satisfied (R...\n",
      "1       Independent demand can't be fully satisfied (R...\n",
      "2       Independent demand can't be fully satisfied (R...\n",
      "3       Independent demand can't be fully satisfied (R...\n",
      "4       Independent demand can't be fully satisfied (R...\n",
      "                              ...                        \n",
      "9995    Independent demand can't be fully satisfied (R...\n",
      "9996    Independent demand can't be fully satisfied (R...\n",
      "9997    Independent demand can't be fully satisfied (R...\n",
      "9998    Independent demand can't be fully satisfied (R...\n",
      "9999    Independent demand can't be fully satisfied (R...\n",
      "Name: Mar-26, Length: 10000, dtype: object\n",
      "\u001b[0m\u001b[32;1m\u001b[1;3mThe 'Mar-26' column contains descriptions of each shipment, including the \"Requested amount\" and \"Fulfilled amount\". I need to extract these values from the text and compare them to determine if the shipment was not fully fulfilled.\n",
      "\n",
      "Action: python_repl_ast\n",
      "Action Input: df['Mar-26'].str.extract(r'Requested amount: (\\d+\\.\\d+), Fulfilled amount: (\\d+\\.\\d+)').astype(float)\u001b[0m\u001b[36;1m\u001b[1;3m          0          1\n",
      "0     104.0  81.722680\n",
      "1     104.0  81.722680\n",
      "2     104.0  56.276080\n",
      "3     104.0  56.276080\n",
      "4     104.0  45.771426\n",
      "...     ...        ...\n",
      "9995  102.0  34.176050\n",
      "9996  102.0  34.176050\n",
      "9997  102.0  34.176050\n",
      "9998  102.0  34.176050\n",
      "9999  102.0  34.176050\n",
      "\n",
      "[10000 rows x 2 columns]\u001b[0m\u001b[32;1m\u001b[1;3mI have successfully extracted the \"Requested amount\" and \"Fulfilled amount\" from the 'Mar-26' column into a DataFrame with two columns. Now, I need to compare these two columns to determine how many shipments were not fully fulfilled (i.e., where the \"Fulfilled amount\" is less than the \"Requested amount\").\n",
      "\n",
      "Action: python_repl_ast\n",
      "Action Input: (df['Mar-26'].str.extract(r'Requested amount: (\\d+\\.\\d+), Fulfilled amount: (\\d+\\.\\d+)').astype(float)[0] > df['Mar-26'].str.extract(r'Requested amount: (\\d+\\.\\d+), Fulfilled amount: (\\d+\\.\\d+)').astype(float)[1]).sum()\u001b[0m\u001b[36;1m\u001b[1;3m10000\u001b[0m\u001b[32;1m\u001b[1;3mI now know the final answer.\n",
      "\n",
      "Final Answer: All 10,000 shipments were not fully fulfilled.\u001b[0m\n",
      "\n",
      "\u001b[1m> Finished chain.\u001b[0m\n"
     ]
    },
    {
     "data": {
      "text/plain": [
       "{'input': 'How many shipments were not fulfilled?',\n",
       " 'output': 'All 10,000 shipments were not fully fulfilled.',\n",
       " 'intermediate_steps': [(AgentAction(tool='python_repl_ast', tool_input=\"print(df['Mar-26'])\", log='Thought: To determine the number of shipments that were not fully fulfilled, I need to compare the \"Requested amount\" and \"Fulfilled amount\" from the \\'Mar-26\\' column. If the \"Fulfilled amount\" is less than the \"Requested amount\", then the shipment was not fully fulfilled.\\n\\nAction: python_repl_ast\\nAction Input: print(df[\\'Mar-26\\'])'),\n",
       "   \"0       Independent demand can't be fully satisfied (R...\\n1       Independent demand can't be fully satisfied (R...\\n2       Independent demand can't be fully satisfied (R...\\n3       Independent demand can't be fully satisfied (R...\\n4       Independent demand can't be fully satisfied (R...\\n                              ...                        \\n9995    Independent demand can't be fully satisfied (R...\\n9996    Independent demand can't be fully satisfied (R...\\n9997    Independent demand can't be fully satisfied (R...\\n9998    Independent demand can't be fully satisfied (R...\\n9999    Independent demand can't be fully satisfied (R...\\nName: Mar-26, Length: 10000, dtype: object\\n\"),\n",
       "  (AgentAction(tool='python_repl_ast', tool_input=\"df['Mar-26'].str.extract(r'Requested amount: (\\\\d+\\\\.\\\\d+), Fulfilled amount: (\\\\d+\\\\.\\\\d+)').astype(float)\", log='The \\'Mar-26\\' column contains descriptions of each shipment, including the \"Requested amount\" and \"Fulfilled amount\". I need to extract these values from the text and compare them to determine if the shipment was not fully fulfilled.\\n\\nAction: python_repl_ast\\nAction Input: df[\\'Mar-26\\'].str.extract(r\\'Requested amount: (\\\\d+\\\\.\\\\d+), Fulfilled amount: (\\\\d+\\\\.\\\\d+)\\').astype(float)'),\n",
       "             0          1\n",
       "   0     104.0  81.722680\n",
       "   1     104.0  81.722680\n",
       "   2     104.0  56.276080\n",
       "   3     104.0  56.276080\n",
       "   4     104.0  45.771426\n",
       "   ...     ...        ...\n",
       "   9995  102.0  34.176050\n",
       "   9996  102.0  34.176050\n",
       "   9997  102.0  34.176050\n",
       "   9998  102.0  34.176050\n",
       "   9999  102.0  34.176050\n",
       "   \n",
       "   [10000 rows x 2 columns]),\n",
       "  (AgentAction(tool='python_repl_ast', tool_input=\"(df['Mar-26'].str.extract(r'Requested amount: (\\\\d+\\\\.\\\\d+), Fulfilled amount: (\\\\d+\\\\.\\\\d+)').astype(float)[0] > df['Mar-26'].str.extract(r'Requested amount: (\\\\d+\\\\.\\\\d+), Fulfilled amount: (\\\\d+\\\\.\\\\d+)').astype(float)[1]).sum()\", log='I have successfully extracted the \"Requested amount\" and \"Fulfilled amount\" from the \\'Mar-26\\' column into a DataFrame with two columns. Now, I need to compare these two columns to determine how many shipments were not fully fulfilled (i.e., where the \"Fulfilled amount\" is less than the \"Requested amount\").\\n\\nAction: python_repl_ast\\nAction Input: (df[\\'Mar-26\\'].str.extract(r\\'Requested amount: (\\\\d+\\\\.\\\\d+), Fulfilled amount: (\\\\d+\\\\.\\\\d+)\\').astype(float)[0] > df[\\'Mar-26\\'].str.extract(r\\'Requested amount: (\\\\d+\\\\.\\\\d+), Fulfilled amount: (\\\\d+\\\\.\\\\d+)\\').astype(float)[1]).sum()'),\n",
       "   10000)]}"
      ]
     },
     "execution_count": 6,
     "metadata": {},
     "output_type": "execute_result"
    }
   ],
   "source": [
    "agent.invoke(\"How many shipments were not fulfilled?\")"
   ]
  },
  {
   "cell_type": "code",
   "execution_count": 14,
   "metadata": {},
   "outputs": [
    {
     "name": "stdout",
     "output_type": "stream",
     "text": [
      "\n",
      "\n",
      "\u001b[1m> Entering new AgentExecutor chain...\u001b[0m\n",
      "\u001b[32;1m\u001b[1;3mThought: The question asks for the number of shipments that could not be fulfilled on a specific date, 21st May 2024. I need to check if there are any records for this date in the dataframe.\n",
      "\n",
      "Action: python_repl_ast\n",
      "Action Input: df['Period'].unique()\u001b[0m\u001b[36;1m\u001b[1;3m['03/25/2024' '05/21/2024' '05/23/2024' '05/26/2024' '05/30/2024'\n",
      " '03/26/2024' '03/27/2024' '03/28/2024' '03/29/2024' '03/30/2024'\n",
      " '03/31/2024' '04-01-2024' '04-02-2024' '04-03-2024' '04-04-2024'\n",
      " '04-05-2024' '04-06-2024' '04-07-2024' '04-08-2024' '04-09-2024'\n",
      " '04-10-2024' '04-11-2024' '04-12-2024' '04/13/2024' '04/14/2024'\n",
      " '04/15/2024' '04/16/2024' '04/17/2024' '04/18/2024' '04/19/2024'\n",
      " '04/20/2024' '04/21/2024' '04/23/2024' '04/24/2024' '04/25/2024'\n",
      " '04/26/2024' '04/27/2024' '04/28/2024' '04/30/2024' '05-01-2024'\n",
      " '05-02-2024' '05-03-2024' '05-04-2024' '05-05-2024' '05-06-2024'\n",
      " '05-07-2024' '05-08-2024' '05-09-2024' '05-11-2024' '05-12-2024'\n",
      " '05/13/2024' '05/14/2024' '05/15/2024' '05/16/2024' '05/17/2024'\n",
      " '05/18/2024' '05/19/2024' '05/20/2024' '05/22/2024' '05/25/2024'\n",
      " '04/22/2024' '04/29/2024' '05-10-2024' '05/24/2024']\u001b[0m\u001b[32;1m\u001b[1;3mThe date '05/21/2024' is present in the unique dates of the 'Period' column in the dataframe. I need to filter the dataframe for this specific date and count the number of records to determine how many shipments could not be fulfilled on that date.\n",
      "\n",
      "Action: python_repl_ast\n",
      "Action Input: df[df['Period'] == '05/21/2024'].shape[0]\u001b[0m\u001b[36;1m\u001b[1;3m417\u001b[0m\u001b[32;1m\u001b[1;3mI now know the final answer.\n",
      "\n",
      "Final Answer: On 21st May 2024, 417 shipments could not be fulfilled.\u001b[0m\n",
      "\n",
      "\u001b[1m> Finished chain.\u001b[0m\n"
     ]
    },
    {
     "data": {
      "text/plain": [
       "{'input': 'On 21st May 2024, How many shipments could not be fulfilled?',\n",
       " 'output': 'On 21st May 2024, 417 shipments could not be fulfilled.'}"
      ]
     },
     "execution_count": 14,
     "metadata": {},
     "output_type": "execute_result"
    }
   ],
   "source": [
    "agent.invoke(\"On 21st May 2024, How many shipments could not be fulfilled?\")"
   ]
  },
  {
   "cell_type": "code",
   "execution_count": 16,
   "metadata": {},
   "outputs": [
    {
     "name": "stdout",
     "output_type": "stream",
     "text": [
      "\n",
      "\n",
      "\u001b[1m> Entering new AgentExecutor chain...\u001b[0m\n",
      "\u001b[32;1m\u001b[1;3mThought: To answer the question, I need to filter the dataframe `df` for the date \"21st May 2024\" and then count the number of unfulfilled shipments for each product. However, the provided data does not include this specific date. I should verify the dates available in the dataframe first.\n",
      "\n",
      "Action: python_repl_ast\n",
      "Action Input: df['Period'].unique()\u001b[0m\u001b[36;1m\u001b[1;3m['03/25/2024' '05/21/2024' '05/23/2024' '05/26/2024' '05/30/2024'\n",
      " '03/26/2024' '03/27/2024' '03/28/2024' '03/29/2024' '03/30/2024'\n",
      " '03/31/2024' '04-01-2024' '04-02-2024' '04-03-2024' '04-04-2024'\n",
      " '04-05-2024' '04-06-2024' '04-07-2024' '04-08-2024' '04-09-2024'\n",
      " '04-10-2024' '04-11-2024' '04-12-2024' '04/13/2024' '04/14/2024'\n",
      " '04/15/2024' '04/16/2024' '04/17/2024' '04/18/2024' '04/19/2024'\n",
      " '04/20/2024' '04/21/2024' '04/23/2024' '04/24/2024' '04/25/2024'\n",
      " '04/26/2024' '04/27/2024' '04/28/2024' '04/30/2024' '05-01-2024'\n",
      " '05-02-2024' '05-03-2024' '05-04-2024' '05-05-2024' '05-06-2024'\n",
      " '05-07-2024' '05-08-2024' '05-09-2024' '05-11-2024' '05-12-2024'\n",
      " '05/13/2024' '05/14/2024' '05/15/2024' '05/16/2024' '05/17/2024'\n",
      " '05/18/2024' '05/19/2024' '05/20/2024' '05/22/2024' '05/25/2024'\n",
      " '04/22/2024' '04/29/2024' '05-10-2024' '05/24/2024']\u001b[0m\u001b[32;1m\u001b[1;3mThe date \"21st May 2024\" is indeed present in the dataframe. Now, I need to filter the dataframe for this specific date and then count the number of unfulfilled shipments for each product.\n",
      "\n",
      "Action: python_repl_ast\n",
      "Action Input: df[df['Period'] == '05/21/2024']['Product ID'].value_counts()\u001b[0m\u001b[36;1m\u001b[1;3mProduct ID\n",
      "PPC1    243\n",
      "PPC5    174\n",
      "Name: count, dtype: int64\u001b[0m\u001b[32;1m\u001b[1;3mI now know the final answer.\n",
      "\n",
      "Final Answer: On 21st May 2024, there were 243 unfulfilled shipments for product PPC1 and 174 unfulfilled shipments for product PPC5.\u001b[0m\n",
      "\n",
      "\u001b[1m> Finished chain.\u001b[0m\n"
     ]
    },
    {
     "data": {
      "text/plain": [
       "{'input': 'On 21st May 2024, How many shipments could not be fulfilled for each product?',\n",
       " 'output': 'On 21st May 2024, there were 243 unfulfilled shipments for product PPC1 and 174 unfulfilled shipments for product PPC5.'}"
      ]
     },
     "execution_count": 16,
     "metadata": {},
     "output_type": "execute_result"
    }
   ],
   "source": [
    "agent.invoke(\"On 21st May 2024, How many shipments could not be fulfilled for each product?\")"
   ]
  },
  {
   "cell_type": "code",
   "execution_count": 17,
   "metadata": {},
   "outputs": [
    {
     "name": "stdout",
     "output_type": "stream",
     "text": [
      "\n",
      "\n",
      "\u001b[1m> Entering new AgentExecutor chain...\u001b[0m\n",
      "\u001b[32;1m\u001b[1;3mThought: To find the average demand fulfillment percentage, I need to calculate the percentage of the fulfilled amount relative to the requested amount for each row, and then find the average of these percentages.\n",
      "\n",
      "Action: Calculate the percentage of fulfillment for each row using the formula (Fulfilled amount / Requested amount) * 100, and then find the average of these percentages.\n",
      "Action Input: df['Fulfilled amount'] / df['Requested amount'] * 100\u001b[0mCalculate the percentage of fulfillment for each row using the formula (Fulfilled amount / Requested amount) * 100, and then find the average of these percentages. is not a valid tool, try one of [python_repl_ast].\u001b[32;1m\u001b[1;3mI need to extract the 'Fulfilled amount' and 'Requested amount' from the 'Mar-26' column, calculate the fulfillment percentage for each row, and then find the average of these percentages.\n",
      "\n",
      "Action: Extract the 'Fulfilled amount' and 'Requested amount' from the 'Mar-26' column using a regular expression to capture the numeric values.\n",
      "Action Input: df['Mar-26'].str.extract(r'Requested amount: (\\d+\\.\\d+), Fulfilled amount: (\\d+\\.\\d+)')\u001b[0mExtract the 'Fulfilled amount' and 'Requested amount' from the 'Mar-26' column using a regular expression to capture the numeric values. is not a valid tool, try one of [python_repl_ast].\u001b[32;1m\u001b[1;3mI need to use the python_repl_ast tool to execute the command to extract the 'Fulfilled amount' and 'Requested amount' from the 'Mar-26' column using a regular expression.\n",
      "\n",
      "Action: python_repl_ast\n",
      "Action Input: df['Mar-26'].str.extract(r'Requested amount: (\\d+\\.\\d+), Fulfilled amount: (\\d+\\.\\d+)')\u001b[0m\u001b[36;1m\u001b[1;3m               0          1\n",
      "0     104.000000  81.722680\n",
      "1     104.000000  81.722680\n",
      "2     104.000000  56.276080\n",
      "3     104.000000  56.276080\n",
      "4     104.000000  45.771426\n",
      "...          ...        ...\n",
      "9995  102.000000  34.176050\n",
      "9996  102.000000  34.176050\n",
      "9997  102.000000  34.176050\n",
      "9998  102.000000  34.176050\n",
      "9999  102.000000  34.176050\n",
      "\n",
      "[10000 rows x 2 columns]\u001b[0m\u001b[32;1m\u001b[1;3mI have successfully extracted the 'Requested amount' and 'Fulfilled amount' from the 'Mar-26' column. Now, I need to convert these extracted values to numeric types and calculate the fulfillment percentage for each row.\n",
      "\n",
      "Action: python_repl_ast\n",
      "Action Input: df_extracted = df['Mar-26'].str.extract(r'Requested amount: (\\d+\\.\\d+), Fulfilled amount: (\\d+\\.\\d+)').astype(float)\n",
      "df_extracted['Fulfillment Percentage'] = (df_extracted[1] / df_extracted[0]) * 100\n",
      "df_extracted['Fulfillment Percentage'].mean()\u001b[0m\u001b[36;1m\u001b[1;3m46.32845121107089\u001b[0m\u001b[32;1m\u001b[1;3mI have calculated the average demand fulfillment percentage from the given data.\n",
      "\n",
      "Final Answer: The average demand fulfillment percentage from the given data is approximately 46.33%.\u001b[0m\n",
      "\n",
      "\u001b[1m> Finished chain.\u001b[0m\n"
     ]
    },
    {
     "data": {
      "text/plain": [
       "{'input': 'what is the average demand fulfillment in percentage from the given data',\n",
       " 'output': 'The average demand fulfillment percentage from the given data is approximately 46.33%.'}"
      ]
     },
     "execution_count": 17,
     "metadata": {},
     "output_type": "execute_result"
    }
   ],
   "source": [
    "agent.invoke(\"what is the average demand fulfillment in percentage from the given data\")"
   ]
  },
  {
   "cell_type": "markdown",
   "metadata": {},
   "source": [
    "## Reference"
   ]
  },
  {
   "cell_type": "markdown",
   "metadata": {},
   "source": [
    "- https://python.langchain.com/v0.1/docs/modules/agents/\n",
    "- https://python.langchain.com/v0.1/docs/modules/agents/concepts/\n",
    "- https://python.langchain.com/v0.2/docs/integrations/toolkits/csv/\n",
    "- https://python.langchain.com/v0.1/docs/modules/agents/quick_start/"
   ]
  }
 ],
 "metadata": {
  "kernelspec": {
   "display_name": "Python 3",
   "language": "python",
   "name": "python3"
  },
  "language_info": {
   "codemirror_mode": {
    "name": "ipython",
    "version": 3
   },
   "file_extension": ".py",
   "mimetype": "text/x-python",
   "name": "python",
   "nbconvert_exporter": "python",
   "pygments_lexer": "ipython3",
   "version": "3.12.1"
  }
 },
 "nbformat": 4,
 "nbformat_minor": 2
}
